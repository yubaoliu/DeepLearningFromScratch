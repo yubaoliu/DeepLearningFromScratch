{
 "cells": [
  {
   "cell_type": "code",
   "execution_count": 54,
   "id": "suburban-chart",
   "metadata": {},
   "outputs": [],
   "source": [
    "%matplotlib inline\n",
    "import sys\n",
    "# sys.path.append('pyimagesearch')\n",
    "# sys.path.append('pyimagesearch/prepreprocessing')\n",
    "# sys.path.insert(0, '/home/yubao/data/project/Deep-Learning-for-Computer-Vision-with-Python')\n",
    "from sklearn.linear_model import SGDClassifier\n",
    "from sklearn.preprocessing import LabelEncoder\n",
    "from sklearn.model_selection import train_test_split\n",
    "from sklearn.metrics import classification_report\n",
    "import matplotlib.pyplot as plt\n",
    "import numpy as np\n",
    "from imutils import paths\n",
    "import argparse\n",
    "from SimplePreprocessor import *\n",
    "from SimpleDatasetLoader import *"
   ]
  },
  {
   "cell_type": "code",
   "execution_count": 55,
   "id": "elegant-elephant",
   "metadata": {},
   "outputs": [],
   "source": [
    "# ap = argparse.ArgumentParser()\n",
    "# ap.add_argument(\"-d\", \"--dataset\", required=True, help=\"path to input dataset\")\n",
    "# args = vars(ap.parse_args())\n",
    "args={}\n",
    "args[\"dataset\"] = \"/home/yubao/data/Dataset/Animals/animals/animals\""
   ]
  },
  {
   "cell_type": "code",
   "execution_count": 56,
   "id": "hourly-phrase",
   "metadata": {},
   "outputs": [
    {
     "name": "stdout",
     "output_type": "stream",
     "text": [
      "[INFO] loading images...\n"
     ]
    }
   ],
   "source": [
    "# grab the list of image paths\n",
    "print(\"[INFO] loading images...\")\n",
    "imagePaths = list(paths.list_images(args[\"dataset\"]))"
   ]
  },
  {
   "cell_type": "code",
   "execution_count": 58,
   "id": "indian-steering",
   "metadata": {},
   "outputs": [
    {
     "name": "stdout",
     "output_type": "stream",
     "text": [
      "[INFO] processed 500/3000\n",
      "[INFO] processed 1000/3000\n",
      "[INFO] processed 1500/3000\n",
      "[INFO] processed 2000/3000\n",
      "[INFO] processed 2500/3000\n",
      "[INFO] processed 3000/3000\n"
     ]
    }
   ],
   "source": [
    "# initialize the image preprocessor, load the dataset from disk and reshape the data matrix\n",
    "sp = SimplePreprocessor(32, 32)\n",
    "sdl = SimpleDatasetLoader(preprocessors=[sp])\n",
    "(data, labels)= sdl.load(imagePaths, verbose=500)\n",
    "data = data.reshape((data.shape[0], 3072))"
   ]
  },
  {
   "cell_type": "code",
   "execution_count": 59,
   "id": "decimal-cisco",
   "metadata": {},
   "outputs": [],
   "source": [
    "# encode the labels as integers\n",
    "le = LabelEncoder()\n",
    "labels = le.fit_transform(labels)\n",
    "\n",
    "# partition the data into training and testing splits using 75% of the data for training and the remaining for testing\n",
    "(trainX, testX, trainY, testY) = train_test_split(data, labels, test_size=0.25, random_state=5)"
   ]
  },
  {
   "cell_type": "code",
   "execution_count": 63,
   "id": "finnish-coordinate",
   "metadata": {},
   "outputs": [
    {
     "name": "stdout",
     "output_type": "stream",
     "text": [
      "[INFO] training model with 'None' penalty\n",
      "[INFO] 'None' penalty accuracy: 48.40%\n",
      "[INFO] training model with 'l1' penalty\n",
      "[INFO] 'l1' penalty accuracy: 55.07%\n",
      "[INFO] training model with 'l2' penalty\n",
      "[INFO] 'l2' penalty accuracy: 52.93%\n"
     ]
    }
   ],
   "source": [
    "# loop over our set of regularizers\n",
    "for r in (None, \"l1\", \"l2\"):\n",
    "    # train a SGD classifier using a softmax loss function and the specified regularization function for 10 ecpochs\n",
    "    print(\"[INFO] training model with '{}' penalty\".format(r))\n",
    "    model = SGDClassifier(loss=\"log\", penalty=r, max_iter=100, learning_rate=\"constant\", eta0=0.01, random_state=42)\n",
    "    model.fit(trainX, trainY)\n",
    "    # evaluate the classifier\n",
    "    acc = model.score(testX, testY)\n",
    "    print(\"[INFO] '{}' penalty accuracy: {:.2f}%\".format(r, acc*100))"
   ]
  },
  {
   "cell_type": "code",
   "execution_count": null,
   "id": "purple-gibraltar",
   "metadata": {},
   "outputs": [],
   "source": []
  }
 ],
 "metadata": {
  "kernelspec": {
   "display_name": "OpenCV",
   "language": "python",
   "name": "opencv"
  },
  "language_info": {
   "codemirror_mode": {
    "name": "ipython",
    "version": 3
   },
   "file_extension": ".py",
   "mimetype": "text/x-python",
   "name": "python",
   "nbconvert_exporter": "python",
   "pygments_lexer": "ipython3",
   "version": "3.8.5"
  }
 },
 "nbformat": 4,
 "nbformat_minor": 5
}
