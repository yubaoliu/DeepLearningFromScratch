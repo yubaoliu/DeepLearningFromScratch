{
 "cells": [
  {
   "cell_type": "code",
   "execution_count": 11,
   "id": "minor-macintosh",
   "metadata": {},
   "outputs": [],
   "source": [
    "import numpy as np\n"
   ]
  },
  {
   "cell_type": "code",
   "execution_count": 16,
   "id": "stone-avenue",
   "metadata": {},
   "outputs": [],
   "source": [
    "class Perceptron:\n",
    "    def __init__(self, N, alpha=0.1):\n",
    "        # initialize the weight matrix and store the learning rate\n",
    "        self.W = np.random.randn(N+1)/np.sqrt(N)\n",
    "        self.alpha = alpha\n",
    "    \n",
    "    def step(self, x):\n",
    "        return 1 if x > 0 else 0\n",
    "\n",
    "    def fit(self, X, y, epochs = 10):\n",
    "        X = np.c_[X, np.ones((X.shape[0]))]\n",
    "        # loop over the desired number of epochs\n",
    "        for epoch in np.arange(0, epochs):\n",
    "            # loop over each individual data point\n",
    "            for (x, target) in zip(X, y):\n",
    "                # take the dot product between the input features and the weight matrix, \n",
    "                # then pass this value through the step function to obtain the prediction\n",
    "                p = self.step(np.dot(x, self.W))\n",
    "                \n",
    "                if p!= target:\n",
    "                    # determine the error\n",
    "                    error = p - target\n",
    "                    \n",
    "                    # update the weight matrix\n",
    "                    self.W += -self.alpha * error * x\n",
    "    \n",
    "    def predict(self, X, addBias=True):\n",
    "        # ensure our input is a matrix\n",
    "        X = np.atleast_2d(X)\n",
    "        \n",
    "        # check to see if the bias column should be added\n",
    "        if addBias:\n",
    "            # insert a column of 1's as the last entry in the feature matrix (bias)\n",
    "            X = np.c_[X, np.ones((X.shape[0]))]\n",
    "        \n",
    "        # take the dot product between the input features and the weight matrix, \n",
    "        # then pass the value through the step function\n",
    "        return self.step(np.dot(X, self.W))\n",
    "    "
   ]
  },
  {
   "cell_type": "code",
   "execution_count": 17,
   "id": "integral-collins",
   "metadata": {},
   "outputs": [
    {
     "name": "stdout",
     "output_type": "stream",
     "text": [
      "[INFO] shape of X: (4, 2)\n",
      "[INFO] shape of y: (4, 1)\n",
      "[INFO] training perceptron\n"
     ]
    }
   ],
   "source": [
    "# Construct the OR dataset\n",
    "X = np.array([[0,0], [0, 1], [1, 0], [1, 1]])\n",
    "y = np.array([[0], [1], [1], [1]])\n",
    "\n",
    "print(\"[INFO] shape of X: {}\".format(X.shape))\n",
    "print(\"[INFO] shape of y: {}\".format(y.shape))\n",
    "\n",
    "# define our perceptron and train it\n",
    "print(\"[INFO] training perceptron\")\n",
    "p = Perceptron(X.shape[1], alpha=0.1)\n",
    "p.fit(X, y, epochs=20)"
   ]
  },
  {
   "cell_type": "code",
   "execution_count": 18,
   "id": "demonstrated-nylon",
   "metadata": {},
   "outputs": [
    {
     "name": "stdout",
     "output_type": "stream",
     "text": [
      "[INFO] testing perceptron\n",
      "[INFO] data=[0 0], ground-truth=0, pred=0\n",
      "[INFO] data=[0 1], ground-truth=1, pred=1\n",
      "[INFO] data=[1 0], ground-truth=1, pred=1\n",
      "[INFO] data=[1 1], ground-truth=1, pred=1\n"
     ]
    }
   ],
   "source": [
    "# OR Function\n",
    "# now that our perceptron is trained we can evaluate it\n",
    "print(\"[INFO] testing perceptron\")\n",
    "# now that our network is trained, loop over thae data points\n",
    "for (x, target) in zip(X,y):\n",
    "    # make a prediction on the data point and display the result to our console\n",
    "    pred = p.predict(x)\n",
    "    print(\"[INFO] data={}, ground-truth={}, pred={}\".format(x, target[0], pred))"
   ]
  },
  {
   "cell_type": "code",
   "execution_count": 19,
   "id": "outdoor-translation",
   "metadata": {},
   "outputs": [
    {
     "name": "stdout",
     "output_type": "stream",
     "text": [
      "[INFO] shape of X: (4, 2)\n",
      "[INFO] shape of y: (4, 1)\n",
      "[INFO] training perceptron\n",
      "[INFO] testing perceptron\n",
      "[INFO] data=[0 0], ground-truth=0, pred=0\n",
      "[INFO] data=[0 1], ground-truth=0, pred=0\n",
      "[INFO] data=[1 0], ground-truth=0, pred=0\n",
      "[INFO] data=[1 1], ground-truth=1, pred=1\n"
     ]
    }
   ],
   "source": [
    "# AND\n",
    "# Construct the OR dataset\n",
    "X = np.array([[0,0], [0, 1], [1, 0], [1, 1]])\n",
    "y = np.array([[0], [0], [0], [1]])\n",
    "\n",
    "print(\"[INFO] shape of X: {}\".format(X.shape))\n",
    "print(\"[INFO] shape of y: {}\".format(y.shape))\n",
    "\n",
    "# define our perceptron and train it\n",
    "print(\"[INFO] training perceptron\")\n",
    "p = Perceptron(X.shape[1], alpha=0.1)\n",
    "p.fit(X, y, epochs=20)\n",
    "\n",
    "# now that our perceptron is trained we can evaluate it\n",
    "print(\"[INFO] testing perceptron\")\n",
    "# now that our network is trained, loop over thae data points\n",
    "for (x, target) in zip(X,y):\n",
    "    # make a prediction on the data point and display the result to our console\n",
    "    pred = p.predict(x)\n",
    "    print(\"[INFO] data={}, ground-truth={}, pred={}\".format(x, target[0], pred))"
   ]
  },
  {
   "cell_type": "code",
   "execution_count": 20,
   "id": "thorough-utility",
   "metadata": {},
   "outputs": [
    {
     "name": "stdout",
     "output_type": "stream",
     "text": [
      "[INFO] shape of X: (4, 2)\n",
      "[INFO] shape of y: (4, 1)\n",
      "[INFO] training perceptron\n",
      "[INFO] testing perceptron\n",
      "[INFO] data=[0 0], ground-truth=0, pred=1\n",
      "[INFO] data=[0 1], ground-truth=1, pred=1\n",
      "[INFO] data=[1 0], ground-truth=1, pred=0\n",
      "[INFO] data=[1 1], ground-truth=0, pred=0\n"
     ]
    }
   ],
   "source": [
    "# XOR\n",
    "# Construct the OR dataset\n",
    "X = np.array([[0,0], [0, 1], [1, 0], [1, 1]])\n",
    "y = np.array([[0], [1], [1], [0]])\n",
    "\n",
    "print(\"[INFO] shape of X: {}\".format(X.shape))\n",
    "print(\"[INFO] shape of y: {}\".format(y.shape))\n",
    "\n",
    "# define our perceptron and train it\n",
    "print(\"[INFO] training perceptron\")\n",
    "p = Perceptron(X.shape[1], alpha=0.1)\n",
    "p.fit(X, y, epochs=20)\n",
    "\n",
    "# now that our perceptron is trained we can evaluate it\n",
    "print(\"[INFO] testing perceptron\")\n",
    "# now that our network is trained, loop over thae data points\n",
    "for (x, target) in zip(X,y):\n",
    "    # make a prediction on the data point and display the result to our console\n",
    "    pred = p.predict(x)\n",
    "    print(\"[INFO] data={}, ground-truth={}, pred={}\".format(x, target[0], pred))"
   ]
  },
  {
   "cell_type": "code",
   "execution_count": null,
   "id": "western-conference",
   "metadata": {},
   "outputs": [],
   "source": []
  }
 ],
 "metadata": {
  "kernelspec": {
   "display_name": "OpenCV",
   "language": "python",
   "name": "opencv"
  },
  "language_info": {
   "codemirror_mode": {
    "name": "ipython",
    "version": 3
   },
   "file_extension": ".py",
   "mimetype": "text/x-python",
   "name": "python",
   "nbconvert_exporter": "python",
   "pygments_lexer": "ipython3",
   "version": "3.8.5"
  }
 },
 "nbformat": 4,
 "nbformat_minor": 5
}
