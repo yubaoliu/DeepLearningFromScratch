{
 "cells": [
  {
   "cell_type": "code",
   "execution_count": 83,
   "id": "deluxe-directory",
   "metadata": {},
   "outputs": [],
   "source": [
    "#!pip install sklearn imutils\n",
    "#S1: Gather dataset: https://www.kaggle.com/ashishsaxena2209/animal-image-datasetdog-cat-and-panda\n",
    "#S2: Split the dataset\n",
    "#S3: Tain the classifier\n",
    "#S4: Evaluate"
   ]
  },
  {
   "cell_type": "code",
   "execution_count": 84,
   "id": "seventh-assets",
   "metadata": {},
   "outputs": [],
   "source": [
    "import cv2\n",
    "import numpy as np\n",
    "import os\n",
    "from sklearn.neighbors import KNeighborsClassifier\n",
    "from sklearn.preprocessing import LabelEncoder\n",
    "from sklearn.model_selection import train_test_split\n",
    "from sklearn.metrics import classification_report\n",
    "from imutils import paths\n",
    "import argparse"
   ]
  },
  {
   "cell_type": "code",
   "execution_count": 85,
   "id": "industrial-affairs",
   "metadata": {},
   "outputs": [],
   "source": [
    "class SimplePreprocessor:\n",
    "    def __init__(self, width, height, inter = cv2.INTER_AREA):\n",
    "        # store the target image width, height, and interpolation method used when resizing\n",
    "        self.width = width\n",
    "        self.height = height\n",
    "        self.inter = inter\n",
    "        \n",
    "    def preprocess(self, image):\n",
    "        # resize the image to a fixed size, ignoring the aspect ratio\n",
    "        return cv2.resize(image, (self.width, self.height), interpolation = self.inter )"
   ]
  },
  {
   "cell_type": "code",
   "execution_count": 86,
   "id": "modified-clock",
   "metadata": {},
   "outputs": [],
   "source": [
    "class SimpleDatasetLoader:\n",
    "    # preprocessors is a list\n",
    "    def __init__(self, preprocessors=None):\n",
    "        # store the image preprocessor\n",
    "        self.preprocessors = preprocessors\n",
    "        # If the preprocessors are None, initialize them as an empty list\n",
    "        if self.preprocessors is None:\n",
    "            self.preprocessors = []\n",
    "    # building an image loader\n",
    "    def load(self, imagePaths, verbose=-1):\n",
    "        # initialize the list of features and labels\n",
    "        data = []\n",
    "        labels = []\n",
    "        \n",
    "        for (i, imagePath) in enumerate(imagePaths):\n",
    "            # load the image and extract the class label assuming that our path has the following format\n",
    "            #/path/to/dataset/{class}/{image}.jpg\n",
    "            image = cv2.imread(imagePath)\n",
    "            label = imagePath.split(os.path.sep)[-2]\n",
    "            # check to see if our preprocessors are not None\n",
    "            if self.preprocessors is not None:\n",
    "                for p in self.preprocessors:\n",
    "                    image = p.preprocess(image)\n",
    "            # treat our processed image as a \"feature vector\"\n",
    "            # by updating the data list followed by the labels\n",
    "            data.append(image)\n",
    "            labels.append(label)\n",
    "            if verbose > 0 and i > 0 and (i+1)%verbose==0:\n",
    "                print(\"[INFO] processed {}/{}\".format(i+1, len(imagePaths)))\n",
    "        return (np.array(data), np.array(labels))"
   ]
  },
  {
   "cell_type": "code",
   "execution_count": 87,
   "id": "burning-missile",
   "metadata": {},
   "outputs": [],
   "source": [
    "# ap = argparse.ArgumentParser()\n",
    "# ap.add_argument(\"-d\", \"--dataset\", required=True, help=\"path to input dataset\")\n",
    "# ap.add_argument(\"-k\", \"--neighbors\", type=int, default=1, help=\"# of nearest neighbors for classification\")\n",
    "# ap.add_argument(\"-j\", \"--jobs\", type=int, default=1, help=\"# of jobs for k-NN distance (-1 use all available cores)\")\n",
    "# args=vars(ap.parse_args())\n",
    "args={}\n",
    "# '/home/yubao/data/Dataset/Animals/animals/animals/cats/cats_00834.jpg'\n",
    "args[\"dataset\"] = \"/home/yubao/data/Dataset/Animals/animals/animals\"\n",
    "args[\"neighbors\"]=3\n",
    "args[\"jobs\"]=-1"
   ]
  },
  {
   "cell_type": "code",
   "execution_count": 88,
   "id": "exempt-metro",
   "metadata": {},
   "outputs": [
    {
     "name": "stdout",
     "output_type": "stream",
     "text": [
      "[INFO] loading images ...\n",
      "[INFO] processed 500/3000\n",
      "[INFO] processed 1000/3000\n",
      "[INFO] processed 1500/3000\n",
      "[INFO] processed 2000/3000\n",
      "[INFO] processed 2500/3000\n",
      "[INFO] processed 3000/3000\n",
      "[INFO] data shape:  (3000, 32, 32, 3)\n",
      "[INFO] label shape:  (3000,)\n",
      "[INFO] labels[0]:  cats\n",
      "[INFO] data shape:  (3000, 3072)\n",
      "[INFO] features matrix: 9.0MB\n"
     ]
    }
   ],
   "source": [
    "# grab the list of images that we will be describing\n",
    "print(\"[INFO] loading images ...\")\n",
    "imagePaths = list(paths.list_images(args[\"dataset\"]))\n",
    "\n",
    "# Initialize the image preprocessor, load the dataset from disk and reshape the data matrix\n",
    "sp = SimplePreprocessor(32, 32)\n",
    "sdl = SimpleDatasetLoader(preprocessors=[sp])\n",
    "(data, labels) = sdl.load(imagePaths, verbose=500)\n",
    "print('[INFO] data shape: ', data.shape)\n",
    "print('[INFO] label shape: ', labels.shape)\n",
    "# print('[INFO] data[0]: ', data[0])\n",
    "print('[INFO] labels[0]: ', labels[0])\n",
    "\n",
    "# 3072 = 32*32*3\n",
    "data = data.reshape((data.shape[0], 3072))\n",
    "print('[INFO] data shape: ', data.shape)\n",
    "print(\"[INFO] features matrix: {:.1f}MB\".format(data.nbytes/(1024 * 1000.0)))"
   ]
  },
  {
   "cell_type": "code",
   "execution_count": 89,
   "id": "tropical-minimum",
   "metadata": {},
   "outputs": [
    {
     "name": "stdout",
     "output_type": "stream",
     "text": [
      "[INFO] shape of trainX (2250, 3072)\n",
      "[INFO] shape of trainY (2250,)\n",
      "[INFO] shape of testX (750, 3072)\n",
      "[INFO] shape of testY (750,)\n"
     ]
    }
   ],
   "source": [
    "# encode the labels as integers\n",
    "le = LabelEncoder()\n",
    "labels = le.fit_transform(labels)\n",
    "\n",
    "# partition the data into training and testing splits using \n",
    "# 75% of the dtata for training and the remaining 25% for testing\n",
    "(trainX, testX, trainY, testY)=train_test_split(data, labels, test_size=0.25, random_state=42)\n",
    "print('[INFO] shape of trainX', trainX.shape)\n",
    "print('[INFO] shape of trainY', trainY.shape)\n",
    "print('[INFO] shape of testX', testX.shape)\n",
    "print('[INFO] shape of testY', testY.shape)"
   ]
  },
  {
   "cell_type": "code",
   "execution_count": 90,
   "id": "cubic-pierce",
   "metadata": {},
   "outputs": [
    {
     "name": "stdout",
     "output_type": "stream",
     "text": [
      "[INFO] evaluating k-NN classifier ...\n",
      "              precision    recall  f1-score   support\n",
      "\n",
      "        cats       0.38      0.53      0.44       262\n",
      "        dogs       0.40      0.51      0.45       239\n",
      "       panda       0.91      0.27      0.41       249\n",
      "\n",
      "    accuracy                           0.44       750\n",
      "   macro avg       0.56      0.44      0.44       750\n",
      "weighted avg       0.56      0.44      0.44       750\n",
      "\n"
     ]
    }
   ],
   "source": [
    "# train and evaluate a k-NN classifier on the raw pixel intensities\n",
    "print(\"[INFO] evaluating k-NN classifier ...\")\n",
    "model = KNeighborsClassifier(n_neighbors=args[\"neighbors\"], n_jobs=args[\"jobs\"])\n",
    "model.fit(trainX, trainY)\n",
    "print(classification_report(testY, model.predict(testX), target_names=le.classes_))"
   ]
  },
  {
   "cell_type": "code",
   "execution_count": null,
   "id": "fantastic-coral",
   "metadata": {},
   "outputs": [],
   "source": []
  }
 ],
 "metadata": {
  "kernelspec": {
   "display_name": "OpenCV",
   "language": "python",
   "name": "opencv"
  },
  "language_info": {
   "codemirror_mode": {
    "name": "ipython",
    "version": 3
   },
   "file_extension": ".py",
   "mimetype": "text/x-python",
   "name": "python",
   "nbconvert_exporter": "python",
   "pygments_lexer": "ipython3",
   "version": "3.8.5"
  }
 },
 "nbformat": 4,
 "nbformat_minor": 5
}
